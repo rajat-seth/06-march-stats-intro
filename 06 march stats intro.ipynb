{
 "cells": [
  {
   "cell_type": "markdown",
   "id": "464dc70c-86e4-4da8-b0c3-79249ff6ce0b",
   "metadata": {},
   "source": [
    "Q1)"
   ]
  },
  {
   "cell_type": "markdown",
   "id": "fbaa0e92-ca6d-4cda-9346-eb9d8f51f18d",
   "metadata": {},
   "source": [
    "Statistics is a branch of mathematics that deals with the collection, analysis, interpretation, presentation, and organization of data. It involves using various methods and techniques to gather and analyze numerical and categorical data to identify patterns, trends, and relationships that can provide insights and inform decision-making.\n",
    "\n",
    "Statistics is used in various fields such as business, economics, social sciences, engineering, medicine, and many others. Some of the key concepts in statistics include probability, hypothesis testing, regression analysis, correlation, and sampling. The insights gained from statistical analysis can be used to make informed decisions and predictions, and to evaluate the validity of hypotheses and claims."
   ]
  },
  {
   "cell_type": "markdown",
   "id": "b72f5505-34a0-4234-ad3f-6089a1b4c638",
   "metadata": {},
   "source": [
    "Q2)"
   ]
  },
  {
   "cell_type": "markdown",
   "id": "faa61abd-21c0-4360-b910-4f836e3fa90b",
   "metadata": {},
   "source": [
    "There are two main types of statistics: descriptive statistics and inferential statistics.\n",
    "\n",
    "Descriptive statistics: This type of statistics deals with the collection, presentation, and summary of data. It describes the characteristics of a dataset using measures such as central tendency, variability, and frequency distribution. Descriptive statistics can be used to summarize and visualize data in a way that is easy to understand. Some examples of when descriptive statistics might be used include:\n",
    "A business wants to understand the sales performance of its products. Descriptive statistics can be used to summarize sales data by product, region, or time period to identify trends and patterns.\n",
    "A researcher wants to summarize the results of a survey. Descriptive statistics can be used to calculate the average response, the most common response, and the range of responses for each question.\n",
    "Inferential statistics: This type of statistics deals with making inferences or generalizations about a population based on a sample of data. It involves using probability theory to test hypotheses and draw conclusions from a sample about a larger population. Some examples of when inferential statistics might be used include:\n",
    "A medical researcher wants to test a new drug. Inferential statistics can be used to determine if the drug is significantly more effective than a placebo by comparing the outcomes of the treatment group to the control group.\n",
    "A pollster wants to estimate the percentage of voters who support a particular candidate. Inferential statistics can be used to calculate a margin of error that reflects the degree of uncertainty in the estimate due to sampling variability."
   ]
  },
  {
   "cell_type": "markdown",
   "id": "d7afabf9-38c3-48c9-a45b-43dd4bedb0c4",
   "metadata": {},
   "source": [
    "Q3)"
   ]
  },
  {
   "cell_type": "markdown",
   "id": "d3236b88-a3de-4082-82e8-43d099cf850f",
   "metadata": {},
   "source": [
    "(i) Grading in exam: A+, A, B+, B, C+, C, D, E\n",
    "\n",
    "This is an example of ordinal data, which are data that have a natural order or ranking. In this case, the grades have a clear hierarchy from A+ (the highest grade) to E (the lowest grade). However, the differences between the grades are not necessarily equal.\n",
    "(ii) Colour of mangoes: yellow, green, orange, red\n",
    "\n",
    "This is an example of nominal data, which are data that represent categories or labels with no inherent order. In this case, the colors of mangoes are distinct categories with no inherent ranking or order.\n",
    "(iii) Height data of a class: [178.9, 179, 179.5, 176, 177.2, 178.3, 175.8,...]\n",
    "\n",
    "This is an example of interval data, which are data that have equal intervals between the values, but do not have a true zero point. In this case, the differences between the heights are equal, but zero does not represent the absence of height. Temperature is another example of interval data.\n",
    "(iv) Number of mangoes exported by a farm: [500, 600, 478, 672, ...]\n",
    "\n",
    "This is an example of ratio data, which are data that have equal intervals between the values and a true zero point. In this case, zero represents the absence of mangoes, and the differences between the numbers of mangoes are equal. Other examples of ratio data include weight, height, and age."
   ]
  },
  {
   "cell_type": "markdown",
   "id": "4956827f-6aa9-44d4-89b0-25a5defc3d84",
   "metadata": {},
   "source": [
    "Q4)"
   ]
  },
  {
   "cell_type": "markdown",
   "id": "52957fea-d39b-452b-8d78-0ddd94d87f87",
   "metadata": {},
   "source": [
    "Q5)"
   ]
  },
  {
   "cell_type": "markdown",
   "id": "8108c989-bccf-4cb5-9f86-ba656b272375",
   "metadata": {},
   "source": [
    "Levels of measurement refer to the different ways that variables can be measured or categorized. There are four main levels of measurement: nominal, ordinal, interval, and ratio.\n",
    "\n",
    "Nominal Level: This is the simplest level of measurement, which involves categorizing variables into discrete groups. Nominal data do not have any order, magnitude or size associated with them, but are just used for naming or labeling the categories.\n",
    "\n",
    "Examples of variables measured at nominal level include: Gender (male, female), Marital status (single, married, divorced, widowed),Eye color (blue, green, brown, etc.).\n",
    "Ordinal Level: Variables measured at this level can be categorized and ordered, but the differences between the categories are not necessarily equal.\n",
    "\n",
    "Examples of variables measured at ordinal level include: Educational level (high school diploma, associate’s degree, bachelor’s degree, master’s degree, doctorate), Military ranks (private, sergeant, lieutenant, captain, major),Levels of customer satisfaction (very satisfied, somewhat satisfied, neutral, somewhat dissatisfied, very dissatisfied).\n",
    "Interval Level: Variables measured at this level have equal intervals between the values, but there is no true zero point.\n",
    "\n",
    "Examples of variables measured at interval level include: Temperature measured in Celsius or Fahrenheit (0°C or 32°F does not indicate the absence of temperature),Year of birth (0 does not indicate the absence of birth year), IQ score.\n",
    "Ratio Level: Variables measured at this level have equal intervals between the values and a true zero point, which indicates the absence of the variable being measured.\n",
    "\n",
    "Examples of variables measured at ratio level include: Weight, Height, Age ,Income ,Sales revenue, Number of employees"
   ]
  },
  {
   "cell_type": "markdown",
   "id": "12b33ade-e13d-49df-9bda-3960cbfad812",
   "metadata": {},
   "source": [
    "Q6)"
   ]
  },
  {
   "cell_type": "markdown",
   "id": "33795596-11e9-45bf-9160-c1f7a7a86f71",
   "metadata": {},
   "source": [
    "Understanding the level of measurement is important when analyzing data because it determines the types of statistical methods that can be used and the interpretations that can be made. Different levels of measurement have different characteristics, and therefore require different analytical approaches.\n",
    "\n",
    "For example, if you have data on the income of individuals, the level of measurement would be ratio. This means that you can use more advanced statistical methods, such as correlation and regression analysis, to analyze the relationships between income and other variables. However, if you have data on the favorite colors of individuals, the level of measurement would be nominal. This means that you can only use descriptive statistics, such as frequency distributions and percentages, to summarize the data.\n",
    "\n",
    "Similarly, if you have data on the rankings of different brands of cars by consumers, the level of measurement would be ordinal. This means that you can use statistical methods such as rank correlation and non-parametric tests to analyze the data. But if you have data on the temperature in different cities, the level of measurement would be interval. This means that you can use measures such as means, standard deviations, and t-tests to analyze the data.\n",
    "\n"
   ]
  },
  {
   "cell_type": "markdown",
   "id": "06b23e3f-96ea-487e-99e4-e8f3087ddce4",
   "metadata": {},
   "source": [
    "Q7)"
   ]
  },
  {
   "cell_type": "markdown",
   "id": "83016170-fc59-4acd-ab5f-68181445072e",
   "metadata": {},
   "source": [
    "Nominal data and ordinal data are both types of categorical data, but they differ in terms of the nature of the categories and the extent to which they can be ordered or ranked.\n",
    "\n",
    "Nominal data refer to categorical data where the categories are unordered and have no numerical significance. Nominal categories represent different types or classes of the variable being measured. For example, nominal data can be used to categorize animals by species, colors of cars, or types of food. There is no inherent order or ranking among the categories in nominal data.\n",
    "\n",
    "Ordinal data, on the other hand, refer to categorical data where the categories are ordered or ranked in some way. Ordinal categories represent different levels or degrees of the variable being measured. For example, ordinal data can be used to rank the levels of education (e.g. high school, college, postgraduate), or the levels of customer satisfaction (e.g. very satisfied, somewhat satisfied, neutral, somewhat dissatisfied, very dissatisfied). The order of the categories in ordinal data reflects the relative magnitude or intensity of the variable being measured, but the differences between the categories may not be equally spaced."
   ]
  },
  {
   "cell_type": "markdown",
   "id": "fe0d2059-44d3-43d6-bad0-9fb0f4a3d890",
   "metadata": {},
   "source": [
    "Q8)"
   ]
  },
  {
   "cell_type": "markdown",
   "id": "d6828859-50f4-4d82-bec8-46d5be3c2cd4",
   "metadata": {},
   "source": [
    "A box plot provides a visual summary of the distribution of a dataset, by indicating the median, quartiles, and any outliers or extreme values. The box represents the middle 50% of the data, with the bottom of the box indicating the first quartile (25th percentile) and the top of the box indicating the third quartile (75th percentile). The whiskers extend from the box to the minimum and maximum values, excluding any outliers or extreme values. Outliers or extreme values are represented as individual data points beyond the whiskers.\n",
    "\n",
    "By displaying the range of the data using a box plot, it becomes easy to see the spread of the data and any outliers that may exist. Box plots can be particularly useful for comparing the ranges of different datasets or for identifying any differences in the ranges of subsets of dat"
   ]
  },
  {
   "cell_type": "markdown",
   "id": "5e3c09aa-b49d-4498-82bf-5314d977a679",
   "metadata": {},
   "source": [
    "Q9)"
   ]
  },
  {
   "cell_type": "markdown",
   "id": "4dd3ab64-7dfd-4d17-8101-7be2c4bb12f0",
   "metadata": {},
   "source": [
    "Descriptive statistics are used to summarize and describe the main features of a dataset, such as its central tendency, variability, and distribution. Descriptive statistics provide a way to summarize and communicate the key characteristics of a dataset to a general audience.\n",
    "\n",
    "Some common examples of descriptive statistics include measures such as the mean, median, mode, range, standard deviation, and frequency distributions. For example, if we have a dataset that includes the ages of a group of people, we could use descriptive statistics to calculate the average age, the range of ages, and the proportion of people in different age categories.\n",
    "Inferential statistics, on the other hand, are used to make inferences or predictions about a larger population based on a sample of data. Inferential statistics involve using probability theory and hypothesis testing to determine the likelihood of certain outcomes or relationships in a population based on the characteristics of a sample. Some common examples of inferential statistics include hypothesis testing, confidence intervals, and regression analysis.\n",
    "\n",
    "For example, if we want to know whether a new medication is effective in treating a particular condition, we could conduct a randomized controlled trial with a sample of patients and use inferential statistics to determine whether the results of the trial can be generalized to the larger population of people with the condition."
   ]
  },
  {
   "cell_type": "markdown",
   "id": "0d2335f6-68fe-469c-9de5-319f5f627dde",
   "metadata": {},
   "source": [
    "Q10)"
   ]
  },
  {
   "cell_type": "markdown",
   "id": "1836890d-40dc-4635-a933-b5f7abc1d458",
   "metadata": {},
   "source": [
    "Measures of central tendency are used to describe the center or typical value of a dataset. There are three common measures of central tendency:\n",
    "\n",
    "Mean: The mean is the average value of the dataset and is calculated by adding up all the values and dividing by the total number of values. The mean is a useful measure of central tendency when the data are normally distributed or symmetrical.\n",
    "\n",
    "Median: The median is the middle value of the dataset, which separates the data into two equal halves. The median is a useful measure of central tendency when the data are skewed or contain extreme values that would affect the mean.\n",
    "\n",
    "Mode: The mode is the value that occurs most frequently in the dataset. The mode is a useful measure of central tendency when the data are categorical or nominal."
   ]
  },
  {
   "cell_type": "code",
   "execution_count": null,
   "id": "ce02ba76-31b2-4496-97ee-7b2186e99661",
   "metadata": {},
   "outputs": [],
   "source": []
  }
 ],
 "metadata": {
  "kernelspec": {
   "display_name": "Python 3 (ipykernel)",
   "language": "python",
   "name": "python3"
  },
  "language_info": {
   "codemirror_mode": {
    "name": "ipython",
    "version": 3
   },
   "file_extension": ".py",
   "mimetype": "text/x-python",
   "name": "python",
   "nbconvert_exporter": "python",
   "pygments_lexer": "ipython3",
   "version": "3.10.8"
  }
 },
 "nbformat": 4,
 "nbformat_minor": 5
}
